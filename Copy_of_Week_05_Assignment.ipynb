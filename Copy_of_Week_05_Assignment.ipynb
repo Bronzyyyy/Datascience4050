{
  "cells": [
    {
      "cell_type": "markdown",
      "metadata": {
        "id": "view-in-github",
        "colab_type": "text"
      },
      "source": [
        "<a href=\"https://colab.research.google.com/github/Bronzyyyy/Datascience4050/blob/main/Copy_of_Week_05_Assignment.ipynb\" target=\"_parent\"><img src=\"https://colab.research.google.com/assets/colab-badge.svg\" alt=\"Open In Colab\"/></a>"
      ]
    },
    {
      "cell_type": "markdown",
      "id": "69574c84",
      "metadata": {
        "id": "69574c84"
      },
      "source": [
        "# Week 05 - Assignment\n"
      ]
    },
    {
      "cell_type": "markdown",
      "id": "a595f517",
      "metadata": {
        "id": "a595f517"
      },
      "source": [
        "## Compliment\n",
        "\n",
        "Compliment of $A$ is $\\bar{A}$\n",
        "\n",
        "Is the compliment of A mutually exclusive with A?"
      ]
    },
    {
      "cell_type": "markdown",
      "id": "89fa6789",
      "metadata": {
        "id": "89fa6789"
      },
      "source": [
        "## Conditional probability\n",
        "\n",
        "https://towardsdatascience.com/conditional-probability-with-a-python-example-fd6f5937cd2<br />\n",
        "https://towardsdatascience.com/conditional-probability-with-python-concepts-tables-code-c23ffe65d110<br />\n",
        "\n",
        "$P(A|B) = \\frac{P(A \\cap B)}{P(B)}$<br />\n",
        "\n",
        "What's the probability of something given something else\n",
        "\n",
        "Terms\n",
        "* $P(A|B)$: Probability of A given B\n",
        "* $P(A \\cap B)$: Probability of A and B\n",
        "* $P(B)$: Probability of B"
      ]
    },
    {
      "cell_type": "markdown",
      "id": "a6bdd5ea",
      "metadata": {
        "id": "a6bdd5ea"
      },
      "source": [
        "### Addition and Multiplication Rules\n",
        "\n",
        "* Addition Rule: $P(A \\cup B) = P(A) + P(B) - P(A \\cap B)$\n",
        "* Multiplication Rule: $P(A \\cap B) = P(A) * P(B|A)$<br />"
      ]
    },
    {
      "cell_type": "markdown",
      "id": "03c7d19b",
      "metadata": {
        "id": "03c7d19b"
      },
      "source": [
        "## Bayes’ Theorem (Week 10)\n",
        "\n",
        "$P(A|B) = \\frac{P(B|A) P(A)}{P(B)}$<br />\n",
        "$P(B) = (P(A) * P(B|A)) + (P(\\bar{A}) * P(B|\\bar{A}))$\n",
        "\n",
        "Recall dependent intersection and multiplication rule:<br />\n",
        "$P(A \\cap B) = P(A) * P(B|A)$"
      ]
    },
    {
      "cell_type": "markdown",
      "id": "8f861920",
      "metadata": {
        "id": "8f861920"
      },
      "source": [
        "## Conditional Probability Problems\n",
        "\n",
        "### Problem 1\n",
        "\n",
        "It has started raining. It rains 10% of the time. We know that flooding can happen when it rains but it is rare. Flooding happnes 1% of the time. 90% of the time it floods we see rain. What's the probability of a flood given rain?<br />\n",
        "\n",
        "Review the equation (What's the question):\n",
        "* P(A|B) = (P(A)P(B|A)) / P(B)\n",
        "* P(Flood|Rain) = (P(Flood)P(Rain|Flood)) / P(Rain)\n",
        "\n",
        "What we know:\n",
        "* P(A) = P(Flood) = .01\n",
        "* P(B) = P(Rain) = .1 \n",
        "* P(B|A) = P(Rain|Flood) = .9"
      ]
    },
    {
      "cell_type": "code",
      "execution_count": null,
      "id": "aa77e161",
      "metadata": {
        "id": "aa77e161",
        "colab": {
          "base_uri": "https://localhost:8080/"
        },
        "outputId": "0021f8e3-a744-4505-c327-7b27bddd9ae6"
      },
      "outputs": [
        {
          "output_type": "stream",
          "name": "stdout",
          "text": [
            "0.09\n"
          ]
        }
      ],
      "source": [
        "# solve for P(A|B); show some work (some formulas or equations)\n",
        "A = .01\n",
        "B = .1\n",
        "B_OR_A = .9\n",
        "\n",
        "A_OR_B = (A*B_OR_A)/B\n",
        "print(format(A_OR_B, ',.2f'))\n",
        "print(\"There is a 9% chance that it will flood when it rains\")"
      ]
    },
    {
      "cell_type": "markdown",
      "id": "dfbf0db9",
      "metadata": {
        "id": "dfbf0db9"
      },
      "source": [
        "### Problem 2\n",
        "\n",
        "A company makes clocks. 1% of the clocks are broken. The company tests for broken clocks and the test identifies a broken clock when it is broken 90% of the time. Unfortunately, the test also identifies a broken clock when it is not defective 9.6% of the time. If a clock tests as broken what's the probability that the clock is actually broken?\n",
        "\n",
        "Review the equation (What's the question):\n",
        "* P(A|B) = (P(A)P(B|A)) / P(B) \n",
        "* P(defective widget| test identifies defect) = (P(defective widget) * P(test identifies defect| defected widget)) / P(B)\n",
        "\n",
        "What we know:\n",
        "* $P(A)$ = P(defective widget) = .01\n",
        "* $P(\\bar{A})$ = P(not defective widget) = .99\n",
        "* $P(B|A)$ = P(test identifies defect| defective widget) = .9\n",
        "* $P(B|\\bar{A})$ = P(test identifies defect| not defective widget) = .096\n",
        "\n",
        "Sovlve for P(B):\n",
        "* $P(B) = (P(A) * P(B|A)) + (P(\\bar{A}) * P(B|\\bar{A}))$\n",
        "* P(B) = (P(defective widget) * P(test identifies defect| defected widget)) + (P(not defective widget) * P(test identifies defect| not defected widget))"
      ]
    },
    {
      "cell_type": "code",
      "execution_count": null,
      "id": "98ebae57",
      "metadata": {
        "id": "98ebae57",
        "colab": {
          "base_uri": "https://localhost:8080/"
        },
        "outputId": "a14bb231-09bc-4164-93c0-d7e9a5e03a9a"
      },
      "outputs": [
        {
          "output_type": "stream",
          "name": "stdout",
          "text": [
            "0.0865\n",
            "9% of the time the test identifies a defective clock\n",
            "0.1040\n",
            "10% of the time the test identifies a defective clock, this does not account for accuracy\n"
          ]
        }
      ],
      "source": [
        "# solve for P(A|B); show some work\n",
        "A = .01\n",
        "A_bar = .99\n",
        "B_IN_A = .9\n",
        "B_IN_A_bar = .096\n",
        "\n",
        "A_IN_B = (A * B_OR_A) / B\n",
        "\n",
        "# solve for P(B)\n",
        "B = (A * B_IN_A) + (A_bar * B_IN_A_bar)\n",
        "\n",
        "print(format(A_OR_B, ',.4f'))\n",
        "print('P(A|B) means that 9% of the time the test identifies a defective clock')\n",
        "print(format(B, ',.4f'))\n",
        "print('P(B) means that 10% of the time the test identifies a defective clock, this does not account for accuracy')"
      ]
    },
    {
      "cell_type": "markdown",
      "id": "1a665b80",
      "metadata": {
        "id": "1a665b80"
      },
      "source": [
        "### Problem 3\n",
        "\n",
        "One hundred students enrolled in class and the administration had to divide into two classes. 60 students went into class 1 and 40 students went into class 2. We know that 2% of the students in class 1 are failing and 1.5% of the students are failing in class 2. All one hundred students went on a field trip during midterm. One student was randomly chosen and asked how things were going. Turns out this student is failing. What's the probability that this student is from class 1?\n",
        "\n",
        "Review the equation (What's the question):\n",
        "* P(A|B) = (P(A)P(B|A)) / P(B) \n",
        "* $P(B) = (P(A) * P(B|A)) + (P(\\bar{A}) * P(B|\\bar{A}))$\n",
        "\n",
        "What we know:\n",
        "* $P(A)$ = P(students in class 1) = .6\n",
        "* $P(\\bar{A})$ = P(students in class 2) = .4\n",
        "* $P(B)$ = failing\n",
        "* $P(B|A)$ = P(failing|class1) = .02\n",
        "* $P(B|\\bar{A})$ = P(failing|class2) = .015\n"
      ]
    },
    {
      "cell_type": "code",
      "execution_count": null,
      "id": "731bd794",
      "metadata": {
        "id": "731bd794",
        "colab": {
          "base_uri": "https://localhost:8080/"
        },
        "outputId": "550b9623-35d9-4eb3-e903-699954722558"
      },
      "outputs": [
        {
          "output_type": "stream",
          "name": "stdout",
          "text": [
            "0.018\n",
            "P(B) means that 1.8% chance that a student chosen at random is falling\n",
            "0.67\n",
            "P(A|B) means tat there is a 66% that this failing student is in class 1\n"
          ]
        }
      ],
      "source": [
        "# solve for P(A|B); show some work\n",
        "A = 0.6\n",
        "A_bar = 0.4\n",
        "B_OR_A = .02\n",
        "B_OR_A_bar = 0.015\n",
        "# showing the probablity that a student is failling\n",
        "B = (A * B_OR_A) + (A_bar * B_OR_A_bar)\n",
        "print(format(B, ',.3f'))\n",
        "print('P(B) means that 1.8% chance that a student chosen at random is falling')\n",
        "A_OR_B = (A * B_OR_A) / B\n",
        "print(format(A_OR_B, ',.2f'))\n",
        "print('P(A|B) means tat there is a 66% that this failing student is in class 1')"
      ]
    },
    {
      "cell_type": "markdown",
      "id": "180f9545",
      "metadata": {
        "id": "180f9545"
      },
      "source": [
        "### Problem 4\n",
        "\n",
        "A box contains 5 apples and 7 oranges. Two fruit are chosen at random from the box without replacement. What is the probability they are both oranges?"
      ]
    },
    {
      "cell_type": "code",
      "execution_count": null,
      "id": "9165d6da",
      "metadata": {
        "id": "9165d6da",
        "colab": {
          "base_uri": "https://localhost:8080/"
        },
        "outputId": "f29588ec-4a94-4dfc-da67-75e67fa4afd7"
      },
      "outputs": [
        {
          "output_type": "stream",
          "name": "stdout",
          "text": [
            "0.3182\n",
            "The probabilty of choosing both oranges is about 4% chance\n"
          ]
        }
      ],
      "source": [
        "# solve here and show some work\n",
        "# there are 5 apples and 7 oranges, total = 12 so A will equal 5, O = 7\n",
        "A = 5\n",
        "O = 7\n",
        "total = 5 + 7\n",
        "Prob_O = O / total\n",
        "\n",
        "Prob_both_O = Prob_O * (O-1)/(total-1)\n",
        "\n",
        "print(format(Prob_both_O, ',.4f'))\n",
        "print(\"The probabilty of choosing both oranges is about 4% chance\")"
      ]
    },
    {
      "cell_type": "markdown",
      "id": "a3d04ae4",
      "metadata": {
        "id": "a3d04ae4"
      },
      "source": [
        "### Problem 5\n",
        "\n",
        "Two cards are chosen at random without replacement from a pack of 52 playing cards. If the first card chosen is a Queen, what is the probability the second card chosen is also a Queen?"
      ]
    },
    {
      "cell_type": "code",
      "execution_count": null,
      "id": "459ad702",
      "metadata": {
        "id": "459ad702",
        "colab": {
          "base_uri": "https://localhost:8080/"
        },
        "outputId": "4e5facd1-60a0-4131-a134-0f69d5434be8"
      },
      "outputs": [
        {
          "output_type": "stream",
          "name": "stdout",
          "text": [
            "0.059\n"
          ]
        }
      ],
      "source": [
        "# solve here and show some work\n",
        "# There are 4 Queens per deck\n",
        "Q = 4\n",
        "Pack = 52\n",
        "Q_chances = 1 / Pack\n",
        "# no replacement must remove each chances by one\n",
        "new_prob_of_Q = (Q-1)/(Pack-1)\n",
        "\n",
        "print(format(new_prob_of_Q, ',.3f'))\n",
        "print('There is a 5% chance of the second card being a Queen')"
      ]
    },
    {
      "cell_type": "markdown",
      "id": "56fae057",
      "metadata": {
        "id": "56fae057"
      },
      "source": [
        "### Problem 6\n",
        "\n",
        "Two cards are chosen at random without replacement from a pack of 52 playing cards. If the first card chosen is an Eight, what is the probability the second card chosen is a Seven?"
      ]
    },
    {
      "cell_type": "code",
      "execution_count": null,
      "id": "1e9da0e0",
      "metadata": {
        "id": "1e9da0e0",
        "colab": {
          "base_uri": "https://localhost:8080/"
        },
        "outputId": "68fed427-4bb3-4bd5-a730-933e8e322eca"
      },
      "outputs": [
        {
          "output_type": "stream",
          "name": "stdout",
          "text": [
            "0.0784\n"
          ]
        }
      ],
      "source": [
        "# sovle here and show some work\n",
        "# 4 8's left in the deck\n",
        "Eight = 4\n",
        "Pack = 52\n",
        "# Chances\n",
        "new_eight = Eight/(Pack-1)\n",
        "\n",
        "print(format(new_eight, ',.4f'))\n",
        "print('There is a 7.8% chance that the following card chosen will be a 8')"
      ]
    },
    {
      "cell_type": "markdown",
      "id": "622d50cc",
      "metadata": {
        "id": "622d50cc"
      },
      "source": [
        "### Problem 7\n",
        "\n",
        "A drawer contains 3 white socks and 4 black socks. Two socks are drawn at random without replacement. If the first sock drawn is black, what is the probability the second sock is also black?"
      ]
    },
    {
      "cell_type": "code",
      "execution_count": null,
      "id": "c42280ed",
      "metadata": {
        "id": "c42280ed",
        "colab": {
          "base_uri": "https://localhost:8080/"
        },
        "outputId": "83c40e19-785d-4bcb-be7d-3fec9a3299a8"
      },
      "outputs": [
        {
          "output_type": "stream",
          "name": "stdout",
          "text": [
            "0.50\n",
            "There is a 50% chances the next chosen sock will be black\n"
          ]
        }
      ],
      "source": [
        "# solve here and show some work\n",
        "W = 3\n",
        "B = 4\n",
        "T = W + B\n",
        "# One black sock is taken out\n",
        "T -= 1\n",
        "B -= 1\n",
        "Prob_of_Black = B/T\n",
        "print(format(Prob_of_Black, ',.2f'))\n",
        "print('There is a 50% chances the next chosen sock will be black')"
      ]
    },
    {
      "cell_type": "markdown",
      "id": "42647322",
      "metadata": {
        "id": "42647322"
      },
      "source": [
        "### Problem 8\n",
        "\n",
        "A drawer contains 3 white socks and 4 black socks. Two socks are drawn at random without replacement. If the first sock drawn is white, what is the probability the second sock is black?"
      ]
    },
    {
      "cell_type": "code",
      "execution_count": null,
      "id": "d683d236",
      "metadata": {
        "id": "d683d236",
        "colab": {
          "base_uri": "https://localhost:8080/"
        },
        "outputId": "2a8c6daf-61dd-419b-f5e5-45ec4e34ec7f"
      },
      "outputs": [
        {
          "output_type": "stream",
          "name": "stdout",
          "text": [
            "0.67\n",
            "There is a 66% chance of the second sock chosen being black\n"
          ]
        }
      ],
      "source": [
        "# solve here and show some work\n",
        "W = 3\n",
        "B = 4\n",
        "T = W+B\n",
        "# first sock taken is white\n",
        "W -=1\n",
        "T -=1\n",
        "# prob os second sock being black\n",
        "Prob_of_Black = B/T\n",
        "print(format(Prob_of_Black, ',.2f'))\n",
        "print('There is a 66% chance of the second sock chosen being black')"
      ]
    },
    {
      "cell_type": "markdown",
      "id": "60d45829",
      "metadata": {
        "id": "60d45829"
      },
      "source": [
        "## Data Problems\n",
        "\n",
        "The following datasets may or may not have a named dependent variable. Please identify the dependent variable data by name and type (numerical or categorical). If it doesn't have a name, provide a name with an explanation. Datasets may not have a clear answer. Explain your observations.\n",
        "\n",
        "### Problem 1\n",
        "\n",
        "* Given the following dataset, what is the dependent variable, the y? Is it numerical or categorical?\n",
        "* https://archive-beta.ics.uci.edu/dataset/53/iris"
      ]
    },
    {
      "cell_type": "markdown",
      "id": "33fddb60",
      "metadata": {
        "id": "33fddb60"
      },
      "source": [
        "Answer problem 1 here\n",
        "1. Dependent var | y : Species\n",
        "2. Numerical or Categorical : Categorical\n",
        "...\n"
      ]
    },
    {
      "cell_type": "markdown",
      "id": "719bb1c7",
      "metadata": {
        "id": "719bb1c7"
      },
      "source": [
        "### Problem 2\n",
        "\n",
        "* Given the following dataset, what is the dependent variable, the y? Is it numerical or categorical?\n",
        "* https://archive-beta.ics.uci.edu/dataset/9/auto+mpg"
      ]
    },
    {
      "cell_type": "markdown",
      "id": "836b1706",
      "metadata": {
        "id": "836b1706"
      },
      "source": [
        "Answer problem 2 \n",
        "1. Dependent var | y : mpg\n",
        "2. Numerical or Categorical : Numerical\n",
        "..."
      ]
    },
    {
      "cell_type": "markdown",
      "id": "506c3804",
      "metadata": {
        "id": "506c3804"
      },
      "source": [
        "### Problem 3\n",
        "\n",
        "* Given the following dataset, what is the dependent variable, the y? Is it numerical or categorical?\n",
        "* https://archive-beta.ics.uci.edu/dataset/16/breast+cancer+wisconsin+prognostic"
      ]
    },
    {
      "cell_type": "markdown",
      "id": "fc2ffdcb",
      "metadata": {
        "id": "fc2ffdcb"
      },
      "source": [
        "Answer for problem 3 here\n",
        "1. Dependent var | y : Outcome\n",
        "2. Numerical or Categorical : Categorical\n",
        "..."
      ]
    },
    {
      "cell_type": "markdown",
      "id": "5eac4845",
      "metadata": {
        "id": "5eac4845"
      },
      "source": [
        "### Problem 4\n",
        "\n",
        "* Given the following dataset, what is the dependent variable, the y? Is it numerical or categorical?\n",
        "* https://archive-beta.ics.uci.edu/dataset/109/wine"
      ]
    },
    {
      "cell_type": "markdown",
      "id": "95fe37a2",
      "metadata": {
        "id": "95fe37a2"
      },
      "source": [
        "Answer problem 4 here\n",
        "1. Dependent var | y : Wine Class\n",
        "2. Numerical or Categorical : Categorical\n",
        "..."
      ]
    },
    {
      "cell_type": "markdown",
      "id": "0e091c70",
      "metadata": {
        "id": "0e091c70"
      },
      "source": [
        "### Problem 5\n",
        "\n",
        "* Given the following dataset, what is the dependent variable, the y? Is it numerical or categorical?\n",
        "* https://archive-beta.ics.uci.edu/dataset/29/computer+hardware"
      ]
    },
    {
      "cell_type": "markdown",
      "id": "76fc702e",
      "metadata": {
        "id": "76fc702e"
      },
      "source": [
        "Answer problem 5 here\n",
        "1. Dependent var | y : Estimated Relative Preformace (ERP)\n",
        "2. Numerical or Categorical : Numerical\n",
        "..."
      ]
    },
    {
      "cell_type": "markdown",
      "id": "7a54349c",
      "metadata": {
        "id": "7a54349c"
      },
      "source": [
        "### Problem 6\n",
        "\n",
        "* Given the following dataset, what is the dependent variable, the y? Is it numerical or categorical?\n",
        "* https://archive-beta.ics.uci.edu/dataset/1/abalone"
      ]
    },
    {
      "cell_type": "markdown",
      "id": "6cf2fb59",
      "metadata": {
        "id": "6cf2fb59"
      },
      "source": [
        "Answer problem 6 here\n",
        "1. Dependent var | y : Rings\n",
        "2. Numerical or Categorical : Numerical\n",
        "..."
      ]
    },
    {
      "cell_type": "markdown",
      "id": "7d0e9895",
      "metadata": {
        "id": "7d0e9895"
      },
      "source": [
        "### Problem 7\n",
        "\n",
        "* Given the following dataset, what is the dependent variable, the y? Is it numerical or categorical?\n",
        "* https://archive-beta.ics.uci.edu/dataset/502/online+retail+ii"
      ]
    },
    {
      "cell_type": "markdown",
      "id": "b21e6741",
      "metadata": {
        "id": "b21e6741"
      },
      "source": [
        "Answer problem 7 here\n",
        "1. Dependent var | y : Invoice Statment\n",
        "2. Numerical or Categorical : Numerical\n",
        "..."
      ]
    },
    {
      "cell_type": "markdown",
      "id": "afdef528",
      "metadata": {
        "id": "afdef528"
      },
      "source": [
        "## Cumulative Density Function, Percent Point Function, and the Binomial Distribution\n",
        "\n",
        "Show and use the stats.norm.cdf and stats.norm.ppf formulas for the following. Round your answers to 2 decimal places.\n",
        "* What is the cdf precentile associated with 2 standard deviations above the mean?\n",
        "* What is the cdf precentile associated with 1 standard deviation below the mean?\n",
        "* What is the z score associated with the 84 percentile?\n",
        "* What is the z score associated with the 2.1 percentile?\n",
        "\n",
        "cdf_val = np.round(stats.norm.cdf(???, loc=0, scale=1), 2)\n",
        "\n",
        "ppf_val = np.round(stats.norm.ppf(???, loc=0, scale=1), 2)\n",
        "\n",
        "Show and use the scipy.stats.binom function to answer the following. Round your answers to 2 decimal places.\n",
        "* A fair coins is flipped 5 times. What is the probability of getting 2 tails?\n",
        "* A fair die is thrown 4 times. What is the probability of getting 2 threes?\n",
        "\n",
        "binom.pmf(k, n, p, loc)"
      ]
    },
    {
      "cell_type": "code",
      "source": [
        "import scipy.stats as stats\n",
        "import numpy as np"
      ],
      "metadata": {
        "id": "vkorSppUa97p"
      },
      "id": "vkorSppUa97p",
      "execution_count": null,
      "outputs": []
    },
    {
      "cell_type": "markdown",
      "id": "cedfba67",
      "metadata": {
        "id": "cedfba67"
      },
      "source": [
        "### Problem 1"
      ]
    },
    {
      "cell_type": "code",
      "execution_count": null,
      "id": "14b68950",
      "metadata": {
        "id": "14b68950",
        "colab": {
          "base_uri": "https://localhost:8080/"
        },
        "outputId": "9bca568f-f5e9-4600-ea06-3184b7aa9c37"
      },
      "outputs": [
        {
          "output_type": "stream",
          "name": "stdout",
          "text": [
            "0.98\n"
          ]
        },
        {
          "output_type": "execute_result",
          "data": {
            "text/plain": [
              "Ellipsis"
            ]
          },
          "metadata": {},
          "execution_count": 38
        }
      ],
      "source": [
        "# What is the cdf precentile associated with 2 standard deviations above the mean?\n",
        "cdf_val1 = stats.norm.cdf(2, loc=0, scale=1)\n",
        "print(format(cdf_val1, ',.2f'))\n",
        "cdf_val = np.round(stats.norm.cdf(0, loc=0, scale=1), 2)\n",
        "..."
      ]
    },
    {
      "cell_type": "markdown",
      "id": "699b8480",
      "metadata": {
        "id": "699b8480"
      },
      "source": [
        "### Problem 2"
      ]
    },
    {
      "cell_type": "code",
      "execution_count": null,
      "id": "cd487c96",
      "metadata": {
        "id": "cd487c96",
        "colab": {
          "base_uri": "https://localhost:8080/"
        },
        "outputId": "66e780ce-6a86-4438-887b-f2c6a8aa4b55"
      },
      "outputs": [
        {
          "output_type": "stream",
          "name": "stdout",
          "text": [
            "0.16\n"
          ]
        },
        {
          "output_type": "execute_result",
          "data": {
            "text/plain": [
              "Ellipsis"
            ]
          },
          "metadata": {},
          "execution_count": 41
        }
      ],
      "source": [
        "# What is the cdf precentile associated with 1 standard deviation below the mean?\n",
        "cdf_val1 = stats.norm.cdf(-1, loc=0, scale=1)\n",
        "print(format(cdf_val1, ',.2f'))\n",
        "cdf_val = np.round(stats.norm.cdf(0, loc=0, scale=1), -1)\n",
        "..."
      ]
    },
    {
      "cell_type": "markdown",
      "id": "ba9eaeea",
      "metadata": {
        "id": "ba9eaeea"
      },
      "source": [
        "### Problem 3"
      ]
    },
    {
      "cell_type": "code",
      "execution_count": null,
      "id": "a5bb52e4",
      "metadata": {
        "id": "a5bb52e4",
        "colab": {
          "base_uri": "https://localhost:8080/"
        },
        "outputId": "b141cd59-93c7-482b-a6cb-9fed9638f5e0"
      },
      "outputs": [
        {
          "output_type": "stream",
          "name": "stdout",
          "text": [
            "0.99\n"
          ]
        },
        {
          "output_type": "execute_result",
          "data": {
            "text/plain": [
              "Ellipsis"
            ]
          },
          "metadata": {},
          "execution_count": 45
        }
      ],
      "source": [
        "# What is the z score associated with the 84 percentile?\n",
        "ppf_val1 = stats.norm.ppf(.84, loc=0, scale = 1)\n",
        "print(format(ppf_val1, ',.2f'))\n",
        "..."
      ]
    },
    {
      "cell_type": "markdown",
      "id": "3d7e3df0",
      "metadata": {
        "id": "3d7e3df0"
      },
      "source": [
        "### Problem 4"
      ]
    },
    {
      "cell_type": "code",
      "execution_count": null,
      "id": "5a8103b3",
      "metadata": {
        "id": "5a8103b3",
        "colab": {
          "base_uri": "https://localhost:8080/"
        },
        "outputId": "65ba45c6-8201-4467-bc2c-a94d0b902db6"
      },
      "outputs": [
        {
          "output_type": "stream",
          "name": "stdout",
          "text": [
            "-2.03\n"
          ]
        },
        {
          "output_type": "execute_result",
          "data": {
            "text/plain": [
              "Ellipsis"
            ]
          },
          "metadata": {},
          "execution_count": 46
        }
      ],
      "source": [
        "# What is the z score associated with the 2.1 percentile?\n",
        "ppf_val1 = stats.norm.ppf(.021, loc=0, scale = 1)\n",
        "print(format(ppf_val1, ',.2f'))\n",
        "..."
      ]
    },
    {
      "cell_type": "markdown",
      "id": "5a6c96ed",
      "metadata": {
        "id": "5a6c96ed"
      },
      "source": [
        "### Problem 5"
      ]
    },
    {
      "cell_type": "code",
      "execution_count": null,
      "id": "e21bf5f6",
      "metadata": {
        "id": "e21bf5f6",
        "colab": {
          "base_uri": "https://localhost:8080/"
        },
        "outputId": "9fb61e8c-7800-4e62-ef28-2580bda2e740"
      },
      "outputs": [
        {
          "output_type": "stream",
          "name": "stdout",
          "text": [
            "0.31\n"
          ]
        },
        {
          "output_type": "execute_result",
          "data": {
            "text/plain": [
              "Ellipsis"
            ]
          },
          "metadata": {},
          "execution_count": 49
        }
      ],
      "source": [
        "# A fair coins is flipped 5 times. What is the probability of getting 2 tails?\n",
        "# n = 5, k = 2, p = 50%\n",
        "ppf_val1 = stats.binom.pmf(2, 5, .5)\n",
        "print(format(ppf_val1, ',.2f'))\n",
        "..."
      ]
    },
    {
      "cell_type": "markdown",
      "id": "b2c4f8b5",
      "metadata": {
        "id": "b2c4f8b5"
      },
      "source": [
        "### Problem 6"
      ]
    },
    {
      "cell_type": "code",
      "execution_count": null,
      "id": "705dd0bc",
      "metadata": {
        "id": "705dd0bc",
        "colab": {
          "base_uri": "https://localhost:8080/"
        },
        "outputId": "ddf0405e-76af-4d24-f538-4cbc790e8c18"
      },
      "outputs": [
        {
          "output_type": "stream",
          "name": "stdout",
          "text": [
            "0.12\n"
          ]
        },
        {
          "output_type": "execute_result",
          "data": {
            "text/plain": [
              "Ellipsis"
            ]
          },
          "metadata": {},
          "execution_count": 50
        }
      ],
      "source": [
        "# A fair die is thrown 4 times. What is the probability of getting 2 threes?\n",
        "ppf_val1 = stats.binom.pmf(2, 4, (1/6))\n",
        "print(format(ppf_val1, ',.2f'))\n",
        "..."
      ]
    }
  ],
  "metadata": {
    "kernelspec": {
      "display_name": "Python 3 (ipykernel)",
      "language": "python",
      "name": "python3"
    },
    "language_info": {
      "codemirror_mode": {
        "name": "ipython",
        "version": 3
      },
      "file_extension": ".py",
      "mimetype": "text/x-python",
      "name": "python",
      "nbconvert_exporter": "python",
      "pygments_lexer": "ipython3",
      "version": "3.9.7"
    },
    "colab": {
      "provenance": [],
      "include_colab_link": true
    }
  },
  "nbformat": 4,
  "nbformat_minor": 5
}